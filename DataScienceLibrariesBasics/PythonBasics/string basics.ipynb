{
 "cells": [
  {
   "cell_type": "code",
   "execution_count": 2,
   "metadata": {},
   "outputs": [
    {
     "name": "stdout",
     "output_type": "stream",
     "text": [
      "coding blocks\n",
      "d\n",
      "s\n",
      "13\n",
      "codin\n"
     ]
    }
   ],
   "source": [
    "a=\"coding blocks\"\n",
    "print(a)\n",
    "print(a[2])\n",
    "print(a[-1])\n",
    "print(len(a))\n",
    "print(a[:5])"
   ]
  },
  {
   "cell_type": "code",
   "execution_count": 3,
   "metadata": {},
   "outputs": [],
   "source": [
    "# a[2]='w'\n",
    "#strings are not mutable"
   ]
  },
  {
   "cell_type": "code",
   "execution_count": 5,
   "metadata": {},
   "outputs": [
    {
     "name": "stdout",
     "output_type": "stream",
     "text": [
      "c\n",
      "o\n",
      "d\n",
      "i\n",
      "n\n",
      "g\n",
      " \n",
      "b\n",
      "l\n",
      "o\n",
      "c\n",
      "k\n",
      "s\n"
     ]
    }
   ],
   "source": [
    "for i in range(len(a)):\n",
    "    print(a[i])"
   ]
  },
  {
   "cell_type": "code",
   "execution_count": 10,
   "metadata": {},
   "outputs": [
    {
     "name": "stdout",
     "output_type": "stream",
     "text": [
      "whatwhatwhatwhatwhat\n",
      "himuskanmangla\n"
     ]
    }
   ],
   "source": [
    "#multiplication in strings\n",
    "a=\"what\"\n",
    "print(a*5)\n",
    "\n",
    "\n",
    "#concatenation in strings\n",
    "a=\"hi\"\n",
    "b=\"muskan\"\n",
    "c=\"mangla\"\n",
    "print(a+b+c)"
   ]
  },
  {
   "cell_type": "code",
   "execution_count": 12,
   "metadata": {},
   "outputs": [
    {
     "name": "stdout",
     "output_type": "stream",
     "text": [
      "yes\n",
      "no\n"
     ]
    }
   ],
   "source": [
    "#substring present or not\n",
    "a=\"bingo\"\n",
    "if \"go\" in a:\n",
    "    print(\"yes\")\n",
    "    \n",
    "a=\"coding\"\n",
    "b=\"code\"\n",
    "if b in a:\n",
    "    print(\"yes\")\n",
    "else:\n",
    "    print(\"no\")"
   ]
  },
  {
   "cell_type": "code",
   "execution_count": 13,
   "metadata": {},
   "outputs": [
    {
     "name": "stdout",
     "output_type": "stream",
     "text": [
      "my favorite fruit is mango and it comes from mp\n"
     ]
    }
   ],
   "source": [
    "#string formating\n",
    "print(\"my favorite fruit is %s and it comes from %s\"%(\"mango\",\"mp\"))"
   ]
  },
  {
   "cell_type": "code",
   "execution_count": 24,
   "metadata": {},
   "outputs": [
    {
     "name": "stdout",
     "output_type": "stream",
     "text": [
      "['hello', 'people', 'of', 'india', 'you', 'are', 'creative']\n",
      "<class 'list'>\n",
      "<class 'str'>\n"
     ]
    }
   ],
   "source": [
    "#split into words\n",
    "str='''hello people of india \n",
    "you are creative'''\n",
    "l=str.split()\n",
    "print(l)\n",
    "print(type(l))\n",
    "print(type(l[0]))"
   ]
  },
  {
   "cell_type": "code",
   "execution_count": 25,
   "metadata": {},
   "outputs": [
    {
     "name": "stdout",
     "output_type": "stream",
     "text": [
      "['hello people of india ', 'you are creative']\n"
     ]
    }
   ],
   "source": [
    "#split into lines\n",
    "l=str.splitlines()\n",
    "print(l)"
   ]
  },
  {
   "cell_type": "code",
   "execution_count": 27,
   "metadata": {},
   "outputs": [
    {
     "name": "stdout",
     "output_type": "stream",
     "text": [
      "MANGO\n",
      "mango\n"
     ]
    }
   ],
   "source": [
    "#convert into uppercase and lowercase\n",
    "fruit=\"Mango\"\n",
    "print(fruit.upper())\n",
    "print(fruit.lower())"
   ]
  },
  {
   "cell_type": "code",
   "execution_count": 31,
   "metadata": {},
   "outputs": [
    {
     "name": "stdout",
     "output_type": "stream",
     "text": [
      "19\n",
      "apple shake     15\n",
      "    apple shake 15\n",
      "apple shake 11\n"
     ]
    }
   ],
   "source": [
    "#removing extra space\n",
    "shake=\"    apple shake    \"\n",
    "print(len(shake))\n",
    "print(shake.lstrip(),len(shake.lstrip()))\n",
    "print(shake.rstrip(),len(shake.rstrip()))\n",
    "print(shake.strip(),len(shake.strip()))"
   ]
  },
  {
   "cell_type": "code",
   "execution_count": 41,
   "metadata": {},
   "outputs": [
    {
     "name": "stdout",
     "output_type": "stream",
     "text": [
      "True\n",
      "False\n",
      "True\n",
      "False\n",
      "True\n",
      "False\n",
      "True\n",
      "False\n",
      "True\n"
     ]
    }
   ],
   "source": [
    "#check digit, alphabet, alphanumeric\n",
    "a=\"193\"\n",
    "print(a.isdigit())\n",
    "b=\"hno 728\"\n",
    "print(b.isdigit())\n",
    "\n",
    "a=\"muskan\"\n",
    "print(a.isalpha())\n",
    "print(b.isalpha())\n",
    "\n",
    "x=\"123mus\"\n",
    "print(x.isalnum())\n",
    "print(b.isalnum())\n",
    "\n",
    "print(a.islower())\n",
    "print(a.isupper())\n",
    "\n",
    "b=\"  \"\n",
    "print(b.isspace())"
   ]
  },
  {
   "cell_type": "code",
   "execution_count": 51,
   "metadata": {},
   "outputs": [
    {
     "name": "stdout",
     "output_type": "stream",
     "text": [
      "14\n",
      "50\n",
      "-1\n",
      "50\n",
      "14\n",
      "50\n"
     ]
    }
   ],
   "source": [
    "#join, replace and find function\n",
    "a=\"I love having apple juice and i like eating green apple\"\n",
    "print(a.find(\"apple\"))\n",
    "print(a.rfind(\"apple\"))\n",
    "print(a.find(\"apples\"))\n",
    "print(a.find(\"apple\",30,len(a)))\n",
    "\n",
    "print(a.index(\"apple\"))\n",
    "print(a.index(\"apple\",30,len(a)))\n",
    "#  print(a.index(\"apples\")) ---index throws exception if not found,find returns -1 "
   ]
  },
  {
   "cell_type": "code",
   "execution_count": 52,
   "metadata": {},
   "outputs": [
    {
     "name": "stdout",
     "output_type": "stream",
     "text": [
      "I love having mango juice and i like eating green mango\n"
     ]
    }
   ],
   "source": [
    "print(a.replace(\"apple\",\"mango\"))"
   ]
  },
  {
   "cell_type": "code",
   "execution_count": 54,
   "metadata": {},
   "outputs": [
    {
     "name": "stdout",
     "output_type": "stream",
     "text": [
      "2\n",
      "0\n"
     ]
    }
   ],
   "source": [
    "print(a.count(\"apple\"))\n",
    "print(a.count(\"apples\"))"
   ]
  },
  {
   "cell_type": "code",
   "execution_count": 56,
   "metadata": {},
   "outputs": [
    {
     "name": "stdout",
     "output_type": "stream",
     "text": [
      "I_love_having_apple_juice_and_i_like_eating_green_apple\n",
      "I#love#having#apple#juice#and#i#like#eating#green#apple\n"
     ]
    }
   ],
   "source": [
    "l=a.split()\n",
    "print('_'.join(l))\n",
    "print('#'.join(l))"
   ]
  },
  {
   "cell_type": "code",
   "execution_count": 59,
   "metadata": {},
   "outputs": [
    {
     "name": "stdout",
     "output_type": "stream",
     "text": [
      "Coding blocks is good\n",
      "Coding Blocks Is Good\n"
     ]
    }
   ],
   "source": [
    "x=\"coding blocks is good\"\n",
    "print(x.capitalize())     #capitalize first word only\n",
    "print(x.title())          #capilize first character of each word"
   ]
  },
  {
   "cell_type": "code",
   "execution_count": null,
   "metadata": {},
   "outputs": [],
   "source": []
  }
 ],
 "metadata": {
  "kernelspec": {
   "display_name": "Python [default]",
   "language": "python",
   "name": "python3"
  },
  "language_info": {
   "codemirror_mode": {
    "name": "ipython",
    "version": 3
   },
   "file_extension": ".py",
   "mimetype": "text/x-python",
   "name": "python",
   "nbconvert_exporter": "python",
   "pygments_lexer": "ipython3",
   "version": "3.6.4"
  }
 },
 "nbformat": 4,
 "nbformat_minor": 2
}
