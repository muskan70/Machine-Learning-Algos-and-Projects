{
 "cells": [
  {
   "cell_type": "code",
   "execution_count": 1,
   "metadata": {},
   "outputs": [
    {
     "name": "stdout",
     "output_type": "stream",
     "text": [
      "hello what is ur name:muskan mangla?\n"
     ]
    }
   ],
   "source": [
    "#end parameter in print function\n",
    "print(\"hello\",\"what\",\"is ur name\",end=\":\")\n",
    "print(\"muskan mangla?\")"
   ]
  },
  {
   "cell_type": "code",
   "execution_count": 9,
   "metadata": {},
   "outputs": [
    {
     "name": "stdout",
     "output_type": "stream",
     "text": [
      "what+the+hell+r+u+doing\n"
     ]
    }
   ],
   "source": [
    "#sep parameter in print function\n",
    "print(\"what\",\"the\",\"hell\",\"r\",\"u\",\"doing\",sep=\"+\")"
   ]
  },
  {
   "cell_type": "code",
   "execution_count": 11,
   "metadata": {},
   "outputs": [
    {
     "name": "stdout",
     "output_type": "stream",
     "text": [
      "Indians love Mangoes\n"
     ]
    }
   ],
   "source": [
    "#format parameters\n",
    "a=\"Mangoes\"\n",
    "b=\"Indians\"\n",
    "print(\"{0} love {1}\".format(b,a))"
   ]
  },
  {
   "cell_type": "code",
   "execution_count": 24,
   "metadata": {},
   "outputs": [
    {
     "name": "stdout",
     "output_type": "stream",
     "text": [
      "3\n",
      "3.3333333333333335\n",
      "3.3333\n",
      "30\n",
      "1000\n"
     ]
    }
   ],
   "source": [
    "#arithmetic operations\n",
    "a=10\n",
    "b=3\n",
    "print(a//b)    # integer division\n",
    "print(a/b)     # floating point division\n",
    "\n",
    "print(\"%0.4f\"%(a/b))    # precision upto 4 decimals\n",
    "\n",
    "print(a*b)     # multiplication\n",
    "print(a**b)    # power calculation"
   ]
  },
  {
   "cell_type": "code",
   "execution_count": 43,
   "metadata": {},
   "outputs": [
    {
     "name": "stdout",
     "output_type": "stream",
     "text": [
      "10 5 muskan\n"
     ]
    }
   ],
   "source": [
    "#multiple variable assignment\n",
    "a,b,c=10,5,\"muskan\"\n",
    "print(a,b,c)"
   ]
  },
  {
   "cell_type": "code",
   "execution_count": 53,
   "metadata": {},
   "outputs": [],
   "source": [
    "# logical operators -and,or,not\n",
    "def check(a,b):\n",
    "    if a and b:\n",
    "        print(\"hello\")\n",
    "    elif a or b:\n",
    "        print(\"how\")\n",
    "    else:\n",
    "        print(\"sorry\")\n",
    "        \n",
    "    if not a:\n",
    "        print(\"not a\")\n",
    "    if not b:\n",
    "        print(\"not b\")"
   ]
  },
  {
   "cell_type": "code",
   "execution_count": 54,
   "metadata": {},
   "outputs": [
    {
     "name": "stdout",
     "output_type": "stream",
     "text": [
      "how\n",
      "not a\n",
      "hello\n",
      "how\n",
      "not b\n",
      "sorry\n",
      "not a\n",
      "not b\n"
     ]
    }
   ],
   "source": [
    "check(0,5)\n",
    "check(1,2)\n",
    "check(1,0)\n",
    "check(0,0)"
   ]
  },
  {
   "cell_type": "code",
   "execution_count": 55,
   "metadata": {},
   "outputs": [
    {
     "name": "stdout",
     "output_type": "stream",
     "text": [
      "1 2 3 4 5 6 7 8 9 "
     ]
    }
   ],
   "source": [
    "#loops in python\n",
    "i=1\n",
    "while i<10:\n",
    "    print(i,end=\" \")\n",
    "    i+=1"
   ]
  },
  {
   "cell_type": "code",
   "execution_count": 56,
   "metadata": {},
   "outputs": [
    {
     "name": "stdout",
     "output_type": "stream",
     "text": [
      "1 3 6 10 15 21 28 36 45 55 "
     ]
    }
   ],
   "source": [
    "ans=0\n",
    "for i in range(1,11):\n",
    "    ans+=i\n",
    "    print(ans,end=\" \")"
   ]
  },
  {
   "cell_type": "code",
   "execution_count": 58,
   "metadata": {},
   "outputs": [
    {
     "name": "stdout",
     "output_type": "stream",
     "text": [
      "10\n",
      "8\n",
      "6\n",
      "4\n",
      "2\n"
     ]
    }
   ],
   "source": [
    "#reverse loop\n",
    "for i in range(10,1,-2):\n",
    "    print(i)"
   ]
  },
  {
   "cell_type": "code",
   "execution_count": 60,
   "metadata": {},
   "outputs": [
    {
     "name": "stdout",
     "output_type": "stream",
     "text": [
      "5 5 5 5 5 \n",
      "5 4 4 4 5 \n",
      "5 4 3 4 5 \n",
      "5 4 4 4 5 \n",
      "5 5 5 5 5 \n"
     ]
    }
   ],
   "source": [
    "#nested loop\n",
    "n=5\n",
    "for x in range(n):\n",
    "    for y in range(n):\n",
    "        print(max(x+1,y+1,n-x,n-y),end=\" \")\n",
    "    print()    "
   ]
  },
  {
   "cell_type": "code",
   "execution_count": 67,
   "metadata": {},
   "outputs": [
    {
     "name": "stdout",
     "output_type": "stream",
     "text": [
      "1 2 3 4 5 6 7 8 9 \n",
      "1 2 3 4 \n",
      "1 2 3 4 6 7 8 9 "
     ]
    }
   ],
   "source": [
    "#break,continue and pass statement\n",
    "#pass--use to skip code condition\n",
    "a=5\n",
    "if a==5:\n",
    "    pass\n",
    "for i in range(1,10):\n",
    "    if(i==5):\n",
    "        pass\n",
    "    print(i,end=\" \")\n",
    "    \n",
    "#break--use to break the loop    \n",
    "print()    \n",
    "for i in range(1,10):\n",
    "    if(i==5):\n",
    "        break\n",
    "    print(i,end=\" \")    \n",
    "\n",
    "#continue--use to restart loop with next value=====kind of skip some statement at some value    \n",
    "print()    \n",
    "for i in range(1,10):\n",
    "    if(i==5):\n",
    "        continue\n",
    "    print(i,end=\" \")       "
   ]
  },
  {
   "cell_type": "code",
   "execution_count": 71,
   "metadata": {},
   "outputs": [
    {
     "name": "stdout",
     "output_type": "stream",
     "text": [
      "Rollno:1 scored 45 marks in english\n",
      "Rollno:7 scored 67 marks in hindi\n",
      "Rollno:3 scored 90 marks in sanskrit\n"
     ]
    }
   ],
   "source": [
    "#keyword arguments\n",
    "def myfunc(score,rollno,lang):\n",
    "    print(\"Rollno:%d scored %d marks in %s\"%(rollno,score,lang))\n",
    "\n",
    "myfunc(45,1,\"english\") \n",
    "myfunc(rollno=7,score=67,lang=\"hindi\")\n",
    "myfunc(90,lang=\"sanskrit\",rollno=3)"
   ]
  },
  {
   "cell_type": "code",
   "execution_count": null,
   "metadata": {},
   "outputs": [],
   "source": []
  }
 ],
 "metadata": {
  "kernelspec": {
   "display_name": "Python [default]",
   "language": "python",
   "name": "python3"
  },
  "language_info": {
   "codemirror_mode": {
    "name": "ipython",
    "version": 3
   },
   "file_extension": ".py",
   "mimetype": "text/x-python",
   "name": "python",
   "nbconvert_exporter": "python",
   "pygments_lexer": "ipython3",
   "version": "3.6.4"
  }
 },
 "nbformat": 4,
 "nbformat_minor": 2
}
